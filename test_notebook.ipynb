{
 "cells": [
  {
   "cell_type": "markdown",
   "metadata": {},
   "source": [
    "### 1.1) Install the necessary libraries if not already installed on local\n",
    "\n",
    "<div class=\"alert alert-block alert-warning\">\n",
    "The code requires Python to run. Any Python version will be fine but I used Python 3.8 to compile this task.\n",
    "</div>\n",
    "\n",
    "To install the dependencies on your local machine, run the following command in this folder:\n",
    "\n",
    "✅ `$ pip install -r requirements.txt`"
   ]
  },
  {
   "cell_type": "markdown",
   "metadata": {},
   "source": [
    "### 1.2) Clone the Repository\n",
    "Before you get started, clone this repository to your local machine using:\n",
    "\n",
    "✅ `$ git clone https://github.com/AdesholaAfolabi/encode_decode_solution.git`"
   ]
  },
  {
   "cell_type": "markdown",
   "metadata": {},
   "source": [
    "### 1.3) Run the main.py file on your local\n",
    "\n",
    "The file contains all the solution as a single file. It also includes the unit tests.\n",
    "\n",
    "✅ `$ python main.py`"
   ]
  },
  {
   "cell_type": "code",
   "execution_count": 4,
   "metadata": {},
   "outputs": [],
   "source": [
    "from main import AliceMessage\n",
    "\n",
    "messageToEncode = \"Hi Bob, this is Alice. Any news?\"\n",
    "messageToDecode = \"eestHwAAhisnliB yiso ncib\"\n",
    "# dictionary = [\"hi\", \"this\", \"news\", \"alice\", \"ice\", \"sis\", \"bob\", \"any\", \"is\"]"
   ]
  },
  {
   "cell_type": "code",
   "execution_count": 5,
   "metadata": {},
   "outputs": [
    {
     "data": {
      "text/plain": [
       "'eestHwAAhisnliB yiso ncib'"
      ]
     },
     "execution_count": 5,
     "metadata": {},
     "output_type": "execute_result"
    }
   ],
   "source": [
    "AliceMessage().encode(messageToEncode)"
   ]
  },
  {
   "cell_type": "code",
   "execution_count": 8,
   "metadata": {},
   "outputs": [
    {
     "data": {
      "text/plain": [
       "'HiBobthisisAliceAnynews'"
      ]
     },
     "execution_count": 8,
     "metadata": {},
     "output_type": "execute_result"
    }
   ],
   "source": [
    "AliceMessage().decode(messageToDecode)"
   ]
  },
  {
   "cell_type": "code",
   "execution_count": 10,
   "metadata": {},
   "outputs": [],
   "source": [
    "decoded = AliceMessage().decode(messageToDecode)"
   ]
  },
  {
   "cell_type": "code",
   "execution_count": 11,
   "metadata": {},
   "outputs": [
    {
     "data": {
      "text/plain": [
       "True"
      ]
     },
     "execution_count": 11,
     "metadata": {},
     "output_type": "execute_result"
    }
   ],
   "source": [
    "_dict = ['hi', 'this', 'news', 'alice', 'ice', 'sis', 'bob', 'any', 'is']\n",
    "AliceMessage().isSafe(decoded, _dict)"
   ]
  },
  {
   "cell_type": "code",
   "execution_count": 2,
   "metadata": {},
   "outputs": [
    {
     "name": "stdout",
     "output_type": "stream",
     "text": [
      "...\n",
      "----------------------------------------------------------------------\n",
      "Ran 3 tests in 0.000s\n",
      "\n",
      "OK\n"
     ]
    }
   ],
   "source": [
    "!python main.py"
   ]
  }
 ],
 "metadata": {
  "kernelspec": {
   "display_name": "Python 3.8.3 ('base')",
   "language": "python",
   "name": "python3"
  },
  "language_info": {
   "codemirror_mode": {
    "name": "ipython",
    "version": 3
   },
   "file_extension": ".py",
   "mimetype": "text/x-python",
   "name": "python",
   "nbconvert_exporter": "python",
   "pygments_lexer": "ipython3",
   "version": "3.8.3"
  },
  "orig_nbformat": 4,
  "vscode": {
   "interpreter": {
    "hash": "9ced8c9fdf2edc9033afc55fdb3268363105bbb197c4c35050bc35a415c8c98e"
   }
  }
 },
 "nbformat": 4,
 "nbformat_minor": 2
}
